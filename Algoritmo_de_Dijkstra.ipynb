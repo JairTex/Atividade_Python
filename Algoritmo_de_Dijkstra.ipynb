{
  "nbformat": 4,
  "nbformat_minor": 0,
  "metadata": {
    "colab": {
      "name": "Algoritmo de Dijkstra.ipynb",
      "provenance": [],
      "collapsed_sections": [],
      "include_colab_link": true
    },
    "kernelspec": {
      "name": "python3",
      "display_name": "Python 3"
    },
    "language_info": {
      "name": "python"
    }
  },
  "cells": [
    {
      "cell_type": "markdown",
      "metadata": {
        "id": "view-in-github",
        "colab_type": "text"
      },
      "source": [
        "<a href=\"https://colab.research.google.com/github/JairTex/Atividade_Python/blob/main/Algoritmo_de_Dijkstra.ipynb\" target=\"_parent\"><img src=\"https://colab.research.google.com/assets/colab-badge.svg\" alt=\"Open In Colab\"/></a>"
      ]
    },
    {
      "cell_type": "markdown",
      "source": [
        "#Estrutura de Dados II\n",
        "####Docente: Jakelyne Silva\n",
        "####Discentes: Antônio Alan Silva Lima, Breno do Carmo Sousa, Felipe Moreira Ferreira, Jair Soares Teixeira e Wallace Leonne Cardoso de Souza\n",
        "##Algoritmo de Dijkstra (Algoritmo do Menor Caminho)\n",
        "####Criado pelo matemático computacional holandês, Edsger Dijkstra (1930 — 2002). E trouxe uma solução para o problema do caminho mais curto num grafo dirigido. É muito útil para minimizar custos em várias áreas como por exemplo, na implementação de redes (por exemplos redes OSPF), ou no conhecido sistema GPS.\n",
        "###Explicação:\n",
        "####Dado um vértice (ou nó), em um determinado grafo, o algoritmo deve localizar o caminho com a menor custo, também chamdo de \"Melhor Caminho\", que é aquele mais curto, entre esse vértice e os outros vértices do grafo, a partir do peso ou custo da aresta. Este sistema, pode também ser usado para encontrar custos de caminhos mais curtos a partir de um único vértice para um vértice de destino parando o algoritmo uma vez que o caminho mais curto para o vértice destino tiver sido determinado."
      ],
      "metadata": {
        "id": "CeINu9-0x2HU"
      }
    },
    {
      "cell_type": "code",
      "execution_count": null,
      "metadata": {
        "id": "oYhiBum3wScx"
      },
      "outputs": [],
      "source": [
        "class HeapMin:\n",
        "    '''\n",
        "    Módulo que simula algumas operações de heapmin. Já que no Algoritmo de\n",
        "    Dijkstra sempre buscamos a menor caminho, que podemos chamar de \"melhor\n",
        "    caminho\", segundo o algoritmo.\n",
        "    '''\n",
        "    \n",
        "    def __init__(self):\n",
        "        '''\n",
        "        Construtor do HeapMin.\n",
        "        '''\n",
        "\n",
        "        self.nos = 0 \n",
        "        self.heap = []\n",
        "\n",
        "    def adiciona_no(self, u, indice):\n",
        "        '''\n",
        "        Adiciona nó\n",
        "        '''\n",
        "        self.heap.append([u, indice]) \n",
        "        self.nos += 1\n",
        "        f = self.nos\n",
        "        while True:\n",
        "            if f == 1:\n",
        "                break\n",
        "            p = f // 2 \n",
        "            if self.heap[p-1][0] <= self.heap[f-1][0]: \n",
        "                break\n",
        "            else:\n",
        "                self.heap[p-1], self.heap[f-1] = self.heap[f-1], self.heap[p-1]\n",
        "                f = p\n",
        "\n",
        "    def mostra_heap(self):\n",
        "        '''\n",
        "        Mostra o Heap em formato de lista\n",
        "        '''\n",
        "        print(self.heap)\n",
        "\n",
        "    def remove_no(self):\n",
        "        '''\n",
        "        Remove um nó do heap, mais especificamente, o primeiro nó\n",
        "        posição[0]\n",
        "        '''\n",
        "        x = self.heap[0]\n",
        "        self.heap[0] = self.heap[self.nos - 1]\n",
        "        self.heap.pop()\n",
        "        self.nos -= 1\n",
        "        p = 1\n",
        "        while True:\n",
        "            f = 2 * p\n",
        "            if f > self.nos:\n",
        "                break\n",
        "            if f + 1 <= self.nos:\n",
        "                if self.heap[f][0] < self.heap[f-1][0]:\n",
        "                    f += 1\n",
        "            if self.heap[p-1][0] <= self.heap[f-1][0]:\n",
        "                break\n",
        "            else:\n",
        "                self.heap[p-1], self.heap[f-1] = self.heap[f-1], self.heap[p-1]\n",
        "                p = f\n",
        "        return x\n",
        "\n",
        "    def tamanho(self):\n",
        "        '''\n",
        "        Retorna o tamanho do Heap, ou seja, a sua quantidade de nós.\n",
        "        '''\n",
        "        return self.nos"
      ]
    },
    {
      "cell_type": "code",
      "source": [
        "class Grafo:\n",
        "    '''\n",
        "    Módulo para a criação de grafos.\n",
        "    '''\n",
        "    \n",
        "    def __init__(self, vertices):\n",
        "        '''\n",
        "        Construtor do Grafo\n",
        "        '''\n",
        "        self.vertices = vertices\n",
        "        self.grafo = [[0] * self.vertices for i in range(self.vertices)]\n",
        "\n",
        "    def adiciona_aresta(self, u, v, peso):\n",
        "        '''\n",
        "        Adiciona aresta levando em consideração que não é um grafo direcionado.\n",
        "        Em outras palavras, a aresta tem um único valor, tanto de ida, quanto volta.\n",
        "        '''\n",
        "        self.grafo[u-1][v-1] = peso\n",
        "        self.grafo[v-1][u-1] = peso\n",
        "\n",
        "    def mostra_matriz(self):\n",
        "        print('A matriz de adjacências é:')\n",
        "        for i in range(self.vertices):\n",
        "            print(self.grafo[i])\n",
        "\n",
        "    def dijkstra(self, origem):\n",
        "        '''\n",
        "        Função que  automatiza a classificação do melhor caminho, ou caminho\n",
        "        mais curto, segundo o ALgoritmo de Dijkstra.\n",
        "        '''\n",
        "        custo_vem = [[-1, 0] for i in range(self.vertices)]\n",
        "        custo_vem[origem - 1] = [0, origem] #Nó de origem\n",
        "        '''\n",
        "        custo_vem = Indica o custo de se passar pelo vértice, quanto menor melhor,\n",
        "        e ainda, de onde esse vértice está vindo.\n",
        "        '''\n",
        "        h = HeapMin()\n",
        "        h.adiciona_no(0, origem) #Origem = 0\n",
        "        \n",
        "        while h.tamanho() > 0:\n",
        "            dist, v = h.remove_no() #recebendo distancia e tamanho do vértice\n",
        "            for i in range(self.vertices):\n",
        "                if self.grafo[v-1][i] != 0:\n",
        "                    if custo_vem[i][0] == -1 or custo_vem[i][0] > dist + self.grafo[v-1][i]:\n",
        "                        custo_vem[i] = [dist + self.grafo[v-1][i], v]\n",
        "                        h.adiciona_no(dist + self.grafo[v-1][i], i+1)\n",
        "        return custo_vem"
      ],
      "metadata": {
        "id": "Tf8phb5z4bYf"
      },
      "execution_count": null,
      "outputs": []
    },
    {
      "cell_type": "markdown",
      "source": [
        "##Testes com o algoritmo\n",
        "####Para os testes utilizaremos o seguinte grafo:\n"
      ],
      "metadata": {
        "id": "PrqIPpYl49Tf"
      }
    },
    {
      "cell_type": "markdown",
      "source": [
        "![Testes_Grafo.png](data:image/png;base64,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)"
      ],
      "metadata": {
        "id": "Gk628RXu6Azn"
      }
    },
    {
      "cell_type": "markdown",
      "source": [
        "Onde A é representado no código pelo valor 1, B pelo valor 2, e assim sucessivamente, até o valor 6, que representa o F.\n",
        "Declaramos um Grafo de 6 vértices, e declaramos as arestas de acordo com a figura acima:"
      ],
      "metadata": {
        "id": "FAqrwPDS6Mno"
      }
    },
    {
      "cell_type": "code",
      "source": [
        "g = Grafo(6) ##Grafo de tamanho 6\n",
        "\n",
        "g.adiciona_aresta(1, 2, 4) ##Onde 1 é o vertice de origem, 2 é o vértice de destino e 4 o peso\n",
        "g.adiciona_aresta(1, 3, 2)\n",
        "g.adiciona_aresta(2, 3, 1)\n",
        "g.adiciona_aresta(2, 4, 5)\n",
        "g.adiciona_aresta(3, 4, 8)\n",
        "g.adiciona_aresta(3, 5, 10)\n",
        "g.adiciona_aresta(4, 5, 2)\n",
        "g.adiciona_aresta(4, 6, 6)\n",
        "g.adiciona_aresta(5, 6, 2)\n",
        "\n",
        "print(f'Resultado do algoritmo: {g.dijkstra(1)}')"
      ],
      "metadata": {
        "id": "37hXQcAw7kGZ",
        "outputId": "69312ddd-3929-4acb-f1a8-d055014fc403",
        "colab": {
          "base_uri": "https://localhost:8080/"
        }
      },
      "execution_count": 41,
      "outputs": [
        {
          "output_type": "stream",
          "name": "stdout",
          "text": [
            "A matriz é: [[0, 1], [3, 3], [2, 1], [8, 2], [10, 4], [12, 5]]\n"
          ]
        }
      ]
    },
    {
      "cell_type": "markdown",
      "source": [
        "O algoritmo de Dijkstra nos trás o menos caminho formado pelos menores sub-caminhos possíveis, de um vértice (origem), pra um vértice de destino dentro de um grafo.\n",
        "\n",
        "O resultado esperado é: [[0, 1], [3, 3], [2, 1], [8, 2], [10, 4], [12, 5]]\n",
        "\n",
        "Para traduzir em miúdos, temos o seguinte, o **destino** é a posição do valor na lista:\n",
        "\n",
        "[0, 1] = Destino sendo A (1)\n",
        "\n",
        "[3, 3] = Destino sendo B (2)\n",
        "\n",
        "[2, 1] = Destino sendo C (3)\n",
        "\n",
        "[8, 2] = Destino sendo D (4)\n",
        "\n",
        "[10, 4] = Destino sendo E (5)\n",
        "\n",
        "[12, 5] = Destino sendo F (6)"
      ],
      "metadata": {
        "id": "_gG1_FAAAmSH"
      }
    },
    {
      "cell_type": "markdown",
      "source": [
        "Então, temos o seguinte [custo, origem_prévia], onde o primeiro valor, o **custo** é igual à soma dos pesos, enquanto o segundo valor, **origem_previa** é igual ao último vértice antes do destino final.\n",
        "\n",
        " [[0, 1], [3, 3], [2, 1], [8, 2], [10, 4], [12, 5]]"
      ],
      "metadata": {
        "id": "4kUNUWWwBZhw"
      }
    },
    {
      "cell_type": "markdown",
      "source": [
        "![Testes_Grafo.png](data:image/png;base64,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)"
      ],
      "metadata": {
        "id": "gowHGeKPRgcm"
      }
    },
    {
      "cell_type": "markdown",
      "source": [
        "Por exemplo, na 5ª posição temos o [10,4], ou seja, temos um peso 10 (somatório dos pesos), para chegar no E (Representado por 5), apartir da origem (A, representado 1), e é precedido por D (Representado pelo 4).\n",
        "\n",
        "Então, vamos para o próximo passo, para chegar no D (Representado por 4), temos [8,2], ou seja, 8 pesos e precedido pelo B (Representado pelo 2), E então vamos para o B, na 2ª posição, [3,3], peso somado 3, precedido por C [2,1], precedido por A, que era nossa origem.  "
      ],
      "metadata": {
        "id": "yYNoxrzkRsNV"
      }
    }
  ]
}
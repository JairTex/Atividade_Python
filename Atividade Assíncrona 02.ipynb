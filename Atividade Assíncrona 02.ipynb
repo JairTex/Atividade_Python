{
  "nbformat": 4,
  "nbformat_minor": 0,
  "metadata": {
    "colab": {
      "name": "Untitled2.ipynb",
      "provenance": [],
      "authorship_tag": "ABX9TyPFZQ7wnVPxfnEJ6/KRPOzx",
      "include_colab_link": true
    },
    "kernelspec": {
      "name": "python3",
      "display_name": "Python 3"
    },
    "language_info": {
      "name": "python"
    }
  },
  "cells": [
    {
      "cell_type": "markdown",
      "metadata": {
        "id": "view-in-github",
        "colab_type": "text"
      },
      "source": [
        "<a href=\"https://colab.research.google.com/github/JairTex/Atividade_Python/blob/main/Atividade%20Ass%C3%ADncrona%2002.ipynb\" target=\"_parent\"><img src=\"https://colab.research.google.com/assets/colab-badge.svg\" alt=\"Open In Colab\"/></a>"
      ]
    },
    {
      "cell_type": "code",
      "metadata": {
        "colab": {
          "base_uri": "https://localhost:8080/"
        },
        "id": "PTai_Q53K7oG",
        "outputId": "851ef38f-55a8-429f-cc08-14806d5e2654"
      },
      "source": [
        "#Questão 01\n",
        "Lanchonete = {\"Salgado\": 4.50, \"Lanche\": 6.50, \"Suco\": 3.00, \"Refrigerante\": 3.50, \"Doce\": 1.00}\n",
        "print(Lanchonete)"
      ],
      "execution_count": 1,
      "outputs": [
        {
          "output_type": "stream",
          "text": [
            "{'Salgado': 4.5, 'Lanche': 6.5, 'Suco': 3.0, 'Refrigerante': 3.5, 'Doce': 1.0}\n"
          ],
          "name": "stdout"
        }
      ]
    },
    {
      "cell_type": "code",
      "metadata": {
        "colab": {
          "base_uri": "https://localhost:8080/"
        },
        "id": "BRXuwcNQMccc",
        "outputId": "bc3f224a-0821-4960-8387-ec8ea5af8e28"
      },
      "source": [
        "#Questão 02\n",
        "Alunos = {\"Aluno01\": 9.50, \"Aluno02\": 6.00, \"Aluno03\": 5.00, \"Aluno\": 8.50, \"Doce\": 10.00}\n",
        "media = (sum(Alunos.values())) / len(Alunos.values())\n",
        "print(media)"
      ],
      "execution_count": 2,
      "outputs": [
        {
          "output_type": "stream",
          "text": [
            "7.8\n"
          ],
          "name": "stdout"
        }
      ]
    },
    {
      "cell_type": "code",
      "metadata": {
        "colab": {
          "base_uri": "https://localhost:8080/"
        },
        "id": "5NBS4qGaO-sM",
        "outputId": "0dc9a9eb-3c74-4861-dd09-fa85d28b6926"
      },
      "source": [
        "#Questão 03\n",
        "nota_01 = float(input(\"Digite a primeira nota: \"))\n",
        "nota_02 = float(input(\"Digite a segunda nota: \"))\n",
        "if ((nota_01 + nota_02)/2) >= 6 and ((nota_01 + nota_02)/2) <= 10:\n",
        "  print( \"Aprovado, média: \", (nota_01 + nota_02)/2)\n",
        "elif ((nota_01 + nota_02)/2) >= 0 and ((nota_01 + nota_02)/2) < 6:\n",
        "  print( \"Reprovado, média: \", (nota_01 + nota_02)/2)\n",
        "else: print(\"Indefinido!\")"
      ],
      "execution_count": 15,
      "outputs": [
        {
          "output_type": "stream",
          "text": [
            "Digite a primeira nota: 10\n",
            "Digite a segunda nota: 5\n",
            "Aprovado, média:  7.5\n"
          ],
          "name": "stdout"
        }
      ]
    },
    {
      "cell_type": "code",
      "metadata": {
        "colab": {
          "base_uri": "https://localhost:8080/"
        },
        "id": "6upbqShnQtYm",
        "outputId": "96491b28-0293-4838-bbdb-d066e3196aaf"
      },
      "source": [
        "#Questão 04\n",
        "nota_01 = float(input(\"Digite a primeira nota: \"))\n",
        "nota_02 = float(input(\"Digite a segunda nota: \"))\n",
        "if ((nota_01 + nota_02)/2) >= 6 and ((nota_01 + nota_02)/2) <= 10:\n",
        "  print( \"Aprovado, média: \", (nota_01 + nota_02)/2)\n",
        "elif ((nota_01 + nota_02)/2) >= 4 and ((nota_01 + nota_02)/2) < 6:\n",
        "  print( \"Exame, média: \", (nota_01 + nota_02)/2)\n",
        "elif ((nota_01 + nota_02)/2) >= 0 and ((nota_01 + nota_02)/2) < 4:\n",
        "  print( \"Reprovado, média: \", (nota_01 + nota_02)/2)\n",
        "else: print(\"Indefinido!\")"
      ],
      "execution_count": 16,
      "outputs": [
        {
          "output_type": "stream",
          "text": [
            "Digite a primeira nota: 5\n",
            "Digite a segunda nota: 4\n",
            "Exame, média:  4.5\n"
          ],
          "name": "stdout"
        }
      ]
    },
    {
      "cell_type": "code",
      "metadata": {
        "colab": {
          "base_uri": "https://localhost:8080/"
        },
        "id": "haIErdrSVTgI",
        "outputId": "304cd09f-fa5e-41fb-ccc7-f98d18b3d570"
      },
      "source": [
        "#Questão 05\n",
        "terco = 0\n",
        "for terco in range (3, 334,3):\n",
        "  terco += terco\n",
        "print(terco)"
      ],
      "execution_count": 31,
      "outputs": [
        {
          "output_type": "stream",
          "text": [
            "666\n"
          ],
          "name": "stdout"
        }
      ]
    },
    {
      "cell_type": "code",
      "metadata": {
        "colab": {
          "base_uri": "https://localhost:8080/"
        },
        "id": "X-I_9w5_XhaH",
        "outputId": "25a83015-84c8-4916-c1de-142f3005e391"
      },
      "source": [
        "#Questão 06\n",
        "nota=0\n",
        "for valor in range (0, 10):\n",
        "  nota +=   float(input(\"Digite a nota:\")) \n",
        "print(nota/10)"
      ],
      "execution_count": 43,
      "outputs": [
        {
          "output_type": "stream",
          "text": [
            "Digite a nota:8\n",
            "Digite a nota:8\n",
            "Digite a nota:8\n",
            "Digite a nota:8\n",
            "Digite a nota:8\n",
            "Digite a nota:6\n",
            "Digite a nota:6\n",
            "Digite a nota:6\n",
            "Digite a nota:6\n",
            "Digite a nota:6\n",
            "7.0\n"
          ],
          "name": "stdout"
        }
      ]
    },
    {
      "cell_type": "code",
      "metadata": {
        "colab": {
          "base_uri": "https://localhost:8080/"
        },
        "id": "50Bxn_VEcI3d",
        "outputId": "d495ef49-6284-4cd5-bf51-e78b90bb45b6"
      },
      "source": [
        "#Questão 07\n",
        "mult = float(input(\"======== Tabuada ========\\nDigite um valor de 1 à 10: \"))\n",
        "for tab in range (0, 11):\n",
        "  print(mult, \" X \", tab, \" = \", (mult*tab)) "
      ],
      "execution_count": 56,
      "outputs": [
        {
          "output_type": "stream",
          "text": [
            "======== Tabuada ========\n",
            "Digite um valor de 1 à 10: 5\n",
            "5.0  X  0  =  0.0\n",
            "5.0  X  1  =  5.0\n",
            "5.0  X  2  =  10.0\n",
            "5.0  X  3  =  15.0\n",
            "5.0  X  4  =  20.0\n",
            "5.0  X  5  =  25.0\n",
            "5.0  X  6  =  30.0\n",
            "5.0  X  7  =  35.0\n",
            "5.0  X  8  =  40.0\n",
            "5.0  X  9  =  45.0\n",
            "5.0  X  10  =  50.0\n"
          ],
          "name": "stdout"
        }
      ]
    },
    {
      "cell_type": "code",
      "metadata": {
        "colab": {
          "base_uri": "https://localhost:8080/"
        },
        "id": "Lqaw7A_1e-gN",
        "outputId": "bacef97b-49e7-4ac0-8272-04a6013af812"
      },
      "source": [
        "#Questão 08\n",
        "tamanho_linha = int(input(\"Digite o tamanho da linha: \"))\n",
        "if tamanho_linha > 0:\n",
        "  for linha in range (1, tamanho_linha):\n",
        "    print(\"_\", end=\"\") \n",
        "else: print(\"Impossível escrever linha desse tamanho!\")\n",
        "print(\"\")"
      ],
      "execution_count": 72,
      "outputs": [
        {
          "output_type": "stream",
          "text": [
            "Digite o tamanho da linha: 68\n",
            "___________________________________________________________________\n"
          ],
          "name": "stdout"
        }
      ]
    },
    {
      "cell_type": "code",
      "metadata": {
        "colab": {
          "base_uri": "https://localhost:8080/"
        },
        "id": "xgcOpptfiNuw",
        "outputId": "1d06a8af-73a1-4f25-a61c-29ce3462c092"
      },
      "source": [
        "#Questão 09\n",
        "def listar(lista):\n",
        "  x = 0\n",
        "  for elemento in lista:\n",
        "    x += 1\n",
        "    print(\"Posição: \", x,\"\\tElemento: \", elemento)\n",
        "lista = [1,2,65,\"falar\"]\n",
        "listar(lista)"
      ],
      "execution_count": 115,
      "outputs": [
        {
          "output_type": "stream",
          "text": [
            "Posição:  1 \tElemento:  1\n",
            "Posição:  2 \tElemento:  2\n",
            "Posição:  3 \tElemento:  65\n",
            "Posição:  4 \tElemento:  falar\n"
          ],
          "name": "stdout"
        }
      ]
    },
    {
      "cell_type": "code",
      "metadata": {
        "colab": {
          "base_uri": "https://localhost:8080/"
        },
        "id": "TROEnnRtGFX-",
        "outputId": "1d9ac51b-643d-4b61-a5ab-d5665ab9f7bf"
      },
      "source": [
        "#Questão 10\n",
        "def cal_media(lista):\n",
        "  print(\"Média: \", sum(lista) / len(lista))\n",
        "lista = [8, 6, 8, 6, 8, 6]\n",
        "cal_media(lista)"
      ],
      "execution_count": 123,
      "outputs": [
        {
          "output_type": "stream",
          "text": [
            "Média:  7.0\n"
          ],
          "name": "stdout"
        }
      ]
    }
  ]
}
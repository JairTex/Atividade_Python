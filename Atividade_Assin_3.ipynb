{
  "nbformat": 4,
  "nbformat_minor": 0,
  "metadata": {
    "colab": {
      "name": "Atividade Assin. 3.ipynb",
      "provenance": [],
      "authorship_tag": "ABX9TyOcd7rhzHBYmPrZbJ7b0tlg",
      "include_colab_link": true
    },
    "kernelspec": {
      "name": "python3",
      "display_name": "Python 3"
    },
    "language_info": {
      "name": "python"
    }
  },
  "cells": [
    {
      "cell_type": "markdown",
      "metadata": {
        "id": "view-in-github",
        "colab_type": "text"
      },
      "source": [
        "<a href=\"https://colab.research.google.com/github/JairTex/Atividade_Python/blob/main/Atividade_Assin_3.ipynb\" target=\"_parent\"><img src=\"https://colab.research.google.com/assets/colab-badge.svg\" alt=\"Open In Colab\"/></a>"
      ]
    },
    {
      "cell_type": "markdown",
      "metadata": {
        "id": "76kymIOAjPlT"
      },
      "source": [
        "#Questão 01#\n",
        "Escreva uma função “chamada” que tome uma lista e retorne True se houver algum elemento que apareça mais de uma vez. Ela não deve modificar a lista original."
      ]
    },
    {
      "cell_type": "code",
      "metadata": {
        "colab": {
          "base_uri": "https://localhost:8080/"
        },
        "id": "_I3uOFmDjSgO",
        "outputId": "024c9449-9d6d-478d-ea49-5e3a9591361d"
      },
      "source": [
        "def chamada (lista) :\n",
        "  for x in lista:\n",
        "    repeticoes = lista.count(x)\n",
        "    if repeticoes > 1:\n",
        "      return True\n",
        "chamada([1,2,3,4,4,5,6,7])"
      ],
      "execution_count": 33,
      "outputs": [
        {
          "output_type": "execute_result",
          "data": {
            "text/plain": [
              "True"
            ]
          },
          "metadata": {
            "tags": []
          },
          "execution_count": 33
        }
      ]
    },
    {
      "cell_type": "markdown",
      "metadata": {
        "id": "Sk2wFtytjVBH"
      },
      "source": [
        "#Questão 02#\n",
        "*Crie* um programa onde o usuário possa digitar cinco valores numéricos e cadastre-os em uma lista, já na posição correta de inserção. No final, mostre a lista ordenada na tela.\n"
      ]
    },
    {
      "cell_type": "code",
      "metadata": {
        "colab": {
          "base_uri": "https://localhost:8080/"
        },
        "id": "aCTdOfpYjTIS",
        "outputId": "809ea801-0df3-4238-d069-0d7221653d01"
      },
      "source": [
        "lista = [int(1), int(2), int(3), int(4), int(5)]\n",
        "numero1 = int(input(\"Digite o primeiro número: \"))\n",
        "lista[0] = numero1\n",
        "numero2 = int(input(\"Digite o segundo número: \"))\n",
        "lista[1] = numero2\n",
        "numero3 = int(input(\"Digite o terceiro número: \"))\n",
        "lista[2] = numero3\n",
        "numero4 = int(input(\"Digite o quarto número: \"))\n",
        "lista[3] = numero4\n",
        "numero5 = int(input(\"Digite o quinto número: \"))\n",
        "lista[4] = numero5\n",
        "lista.sort()\n",
        "print(\"Lista: \", lista)"
      ],
      "execution_count": 4,
      "outputs": [
        {
          "output_type": "stream",
          "text": [
            "Digite o primeiro número: 5\n",
            "Digite o segundo número: 4\n",
            "Digite o terceiro número: 3\n",
            "Digite o quarto número: 2\n",
            "Digite o quinto número: 1\n",
            "Lista:  [1, 2, 3, 4, 5]\n"
          ],
          "name": "stdout"
        }
      ]
    },
    {
      "cell_type": "markdown",
      "metadata": {
        "id": "4t6eROwRjvQd"
      },
      "source": [
        "#Questão 03\n",
        "\n",
        "Escreva uma função chamada middle que receba uma lista e retorne uma nova lista com todos os elementos originais, exceto os primeiros e os últimos elementos. "
      ]
    },
    {
      "cell_type": "code",
      "metadata": {
        "colab": {
          "base_uri": "https://localhost:8080/"
        },
        "id": "PYlorkyXjvqh",
        "outputId": "6bf5419e-7472-462c-f1b0-168787a7fa41"
      },
      "source": [
        "def middle(lista):\n",
        "  del lista[0]\n",
        "  del lista[-1]\n",
        "  return lista\n",
        "middle([1,2,3,4,5])"
      ],
      "execution_count": 9,
      "outputs": [
        {
          "output_type": "execute_result",
          "data": {
            "text/plain": [
              "[2, 3, 4]"
            ]
          },
          "metadata": {
            "tags": []
          },
          "execution_count": 9
        }
      ]
    },
    {
      "cell_type": "markdown",
      "metadata": {
        "id": "_5knQVKijwJO"
      },
      "source": [
        "#Questão 04\n",
        "Crie um programa que vai ler vários números e colocar em uma lista. Depois disso, crie duas listas extras que vão conter apenas os valores pares e os valores ímpares digitados, respectivamente. Ao final, mostre o conteúdo das três listas geradas.\n"
      ]
    },
    {
      "cell_type": "code",
      "metadata": {
        "colab": {
          "base_uri": "https://localhost:8080/"
        },
        "id": "96CzPE7wjwkK",
        "outputId": "3bbbb773-c864-4859-dfc4-f7d3f909f867"
      },
      "source": [
        "\n",
        "def listando (lista):\n",
        "\n",
        "  lista_par = []\n",
        "  for x in lista:\n",
        "    if x % 2 == 0:\n",
        "      lista_par.extend([x])\n",
        "\n",
        "  lista_impar = []\n",
        "  for x in lista:\n",
        "    if x % 2 == 1:\n",
        "      lista_impar.extend([x])  \n",
        "\n",
        "  print(lista)\n",
        "  print(lista_par)\n",
        "  print(lista_impar)\n",
        "listando([1,2,3,4,5,6,7,8,9])\n"
      ],
      "execution_count": 14,
      "outputs": [
        {
          "output_type": "stream",
          "text": [
            "[1, 2, 3, 4, 5, 6, 7, 8, 9]\n",
            "[2, 4, 6, 8]\n",
            "[1, 3, 5, 7, 9]\n"
          ],
          "name": "stdout"
        }
      ]
    },
    {
      "cell_type": "markdown",
      "metadata": {
        "id": "b30OWwCijxcs"
      },
      "source": [
        "#Questão 05\n",
        "Crie um programa que vai ler vários números e colocar em uma lista. Depois disso, mostre: \n",
        "1.   Quantos números foram digitados. \n",
        "2.   A lista de valores, ordenada de forma decrescente.\n",
        "3.   Se o valor 5 foi digitado e está ou não na lista."
      ]
    },
    {
      "cell_type": "code",
      "metadata": {
        "colab": {
          "base_uri": "https://localhost:8080/"
        },
        "id": "pSKq9TMRknaX",
        "outputId": "c0063929-7b2b-4350-a2c6-ed928ca21227"
      },
      "source": [
        "def listaQuestao05 (lista):\n",
        "\n",
        "  print(\"Tamanho: \", len(lista))\n",
        "  lista.reverse()\n",
        "  print(\"Decrescente: \", lista)\n",
        "  print(\"Possui 5? \", 5 in lista)\n",
        "\n",
        "listaQuestao05([1,2,3,4,5,6,7,8,9])"
      ],
      "execution_count": 23,
      "outputs": [
        {
          "output_type": "stream",
          "text": [
            "Tamanho:  9\n",
            "Decrescente:  [9, 8, 7, 6, 5, 4, 3, 2, 1]\n",
            "Possui 5?  True\n"
          ],
          "name": "stdout"
        }
      ]
    }
  ]
}
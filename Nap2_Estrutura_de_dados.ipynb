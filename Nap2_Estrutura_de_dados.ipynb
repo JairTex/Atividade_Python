{
  "nbformat": 4,
  "nbformat_minor": 0,
  "metadata": {
    "colab": {
      "name": "Nap2_Estrutura_de_dados.ipynb",
      "provenance": [],
      "authorship_tag": "ABX9TyMi0sWRTKp26VgEW+f32Pci",
      "include_colab_link": true
    },
    "kernelspec": {
      "name": "python3",
      "display_name": "Python 3"
    },
    "language_info": {
      "name": "python"
    }
  },
  "cells": [
    {
      "cell_type": "markdown",
      "metadata": {
        "id": "view-in-github",
        "colab_type": "text"
      },
      "source": [
        "<a href=\"https://colab.research.google.com/github/JairTex/Atividade_Python/blob/main/Nap2_Estrutura_de_dados.ipynb\" target=\"_parent\"><img src=\"https://colab.research.google.com/assets/colab-badge.svg\" alt=\"Open In Colab\"/></a>"
      ]
    },
    {
      "cell_type": "markdown",
      "metadata": {
        "id": "7k-_ev9r92ls"
      },
      "source": [
        "#Torre de Hanói\n",
        "O problema da Torre de Hanói é um quebra-cabeça matemático fundamental que é \n",
        "apresentado a novos programadores no início para que eles ampliem seu questionário de resolução de problemas.\n",
        "\n",
        "O problema é simples, envolvendo três hastes. Uma haste contém vários discos em ordem \n",
        "decrescente, com o maior disco na parte inferior e o menor no topo. Temos que transferir \n",
        "isso da haste um para a haste três usando a segunda haste.\n",
        "Temos que manter certas regras em mente. Podemos mover apenas um disco \n",
        "simultaneamente e temos que pegar o disco no topo da haste. Além disso, não podemos \n",
        "colocar um disco maior em cima de um disco menor. Tendo tudo isso em mente, temos \n",
        "que resolver este problema e calcular o número total de movimentos realizados para \n",
        "resolvê-lo.\n",
        "\n",
        "Desenvolva um programa em PYTHON para resolver o problema da torre de Hanói \n",
        "usando a estrutura de dados PILHA. – 4 pontos"
      ]
    },
    {
      "cell_type": "code",
      "metadata": {
        "id": "KLoquOVT91QK"
      },
      "source": [
        "def TorreHanoi(n, origem, po, destino, pd, auxiliar, pa):\n",
        "    if n == 1:\n",
        "        #\"Quando houver apenas um disco, o código leva ele direto para o destino\"\n",
        "        print('Mova o', n, 'da torre', origem, 'para', destino)\n",
        "        pd.append(po[len(po)-1])\n",
        "        po.pop()\n",
        "        print('Origem:', po, '*** Auxiliar:', pa, '*** Destino:', pd)\n",
        "\n",
        "    elif n > 1:\n",
        "        #\"O primeiro teste leva o número da origem para a torre auxiliar\"\n",
        "        TorreHanoi(n - 1, origem, po, auxiliar, pa, destino, pd)\n",
        "        print('Mova o', n, 'da torre', origem, 'para', destino)\n",
        "\n",
        "        pd.append(po[len(po)-1])\n",
        "        po.pop()\n",
        "        print('Origem:', po, '*** Auxiliar:', pa, '*** Destino:', pd)\n",
        "        #\"Nesse segundo teste estamos levando o número da torre auxiliar oara o destivo, e depoois para origem\"\n",
        "        TorreHanoi(n - 1, auxiliar, pa, destino, pd, origem, po)\n",
        "        \n",
        "    else:\n",
        "        print(\"Impossível calcular movimentos para\", n) \n",
        "\n",
        "print('--------------------------------')\n",
        "print('-------  TORRE DE HANÓI  -------')\n",
        "print('--------------------------------')\n",
        "\n",
        "n = int(input('\\nInsira o nímero de discos: '))\n",
        "#\"Calculando o número de movimentos\"\n",
        "movimentos =(2**n)\n",
        "movimentos -= 1\n",
        "print('--------------------------------')\n",
        "print('\\nMovimentos necessários = ', movimentos, '\\n')\n",
        "print('--------------------------------')\n",
        "\n",
        "#\"Criando as pilhas\"\n",
        "po = []\n",
        "pa = []\n",
        "pd = []\n",
        "\n",
        "#\"Criando a pilha origem a partir de n\"\n",
        "for elementos in range(1,n+1):\n",
        "    po.append(elementos)\n",
        "po.sort()\n",
        "po.reverse()\n",
        "print('Origem:', po, '*** Auxiliar:', pa, '*** Destino:', pd, '\\n')\n",
        "print('--------------------------------')\n",
        "\n",
        "#\"Definindo as entradaspara rodar a função da torre de Hanói\"\n",
        "TorreHanoi(n, 1, po, 3, pd, 2, pa)"
      ],
      "execution_count": null,
      "outputs": []
    },
    {
      "cell_type": "markdown",
      "metadata": {
        "id": "WWV0TLg_97I7"
      },
      "source": [
        "#Jogo da Forca\n",
        "Implemente o famoso JOGO DA FORCA em PYTHON, utilizando as estruturas de \n",
        "dados que achar mais conveniente. (basta implementar a comparação com as palavras, \n",
        "não sendo necessário fazer o desenho.) – 4 pontos."
      ]
    },
    {
      "cell_type": "code",
      "metadata": {
        "id": "eUz1fwev9_3q"
      },
      "source": [
        "import random\n",
        "import time\n",
        "\n",
        "#Tupla\n",
        "palavras = ['java', 'python', 'javaScript','perl','assembly', 'php', 'ruby', 'swift']\n",
        "\n",
        "#Sorteando a palavra\n",
        "palavra_secreta = random.choice(palavras).lower()\n",
        "\n",
        "letras_escolhidas = []\n",
        "tentativas = 6\n",
        "\n",
        "print('='*20)\n",
        "print(\"JOGO DA FORCA!\")\n",
        "print('='*20)\n",
        "print(\"Olá! Vamos jogar?\")\n",
        "\n",
        "jogar = str(input(\"Sim ou Não: \")).strip().upper()\n",
        "\n",
        "if jogar in 'SIM': # Inico do jogo\n",
        "  print(\"Voce tem 6 chances para acertar a palavra!\")\n",
        "  print(\"\\033[31mSorteando uma palavra...\\033[m\")\n",
        "  time.sleep(3)\n",
        "  print(\"PRONTO!!\")\n",
        "  print(\"\\nDICA: É UMA LINGUAGEM DE PROGRAMAÇÃO!\\n\")\n",
        "\n",
        "  # gerando e imprimindo a lista de underlines e os palpites\n",
        "  palpites = ['_'] * len(palavra_secreta)\n",
        "  print(\" A palavra tem {} letras\".format(len(palavra_secreta)))\n",
        "\n",
        "  print(' '.join(palpites))\n",
        "\n",
        "  while True: # Inicio do Laço\n",
        "      print(\"Qual letra você acha que a palavra tem? \")\n",
        "      while True:\n",
        "          letra = input(\"Letra: \").lower()\n",
        "\n",
        "          if len(letra) != 1:  \n",
        "              print('Digite apenas uma letra')\n",
        "          else:\n",
        "              if letra in letras_escolhidas: \n",
        "                  print('A letra {} já foi escolhida'.format(letra))\n",
        "              else:\n",
        "                  break\n",
        "\n",
        "      letras_escolhidas.append(letra) # Inseri a letra na lista 'Letras_Escolhidas'\n",
        "      print('letras tentadas: {}'.format((' ').join(letras_escolhidas))) #imprimi as letras tentadas dando um espaço entre elas\n",
        "\n",
        "      if letra in palavra_secreta: # Condição para Letra correta\n",
        "          posicoes = []\n",
        "\n",
        "          # verifica todas as posições que tem a letra\n",
        "          for i, c in enumerate(palavra_secreta):\n",
        "              if letra == c:\n",
        "                  palpites[i] = c\n",
        "                  posicoes.append(i)\n",
        "\n",
        "          print('Você acertou uma letra!')\n",
        "          print(\"\\nPosições {}\".format(', '.join(map(str, posicoes)))) \n",
        "          \n",
        "          print(' '.join(palpites)) #Imprime os palpites com um espaço entre os elementos\n",
        "\n",
        "          #Condição para acerto da palavra\n",
        "          if palavra_secreta == ''.join(palpites): \n",
        "              print('Parabéns você ganhou!')\n",
        "              break \n",
        "\n",
        "      else: #Condição para letra incorreta \n",
        "          print(\"\\n Letra errada!\")\n",
        "          tentativas -= 1\n",
        "\n",
        "          # Condição para derrota\n",
        "          if tentativas == 0: \n",
        "              print(\"\\nVocê perdeu!\")\n",
        "\n",
        "              #Imprime a palavra correta\n",
        "              print(\"A palavra era {}\".format(palavra_secreta))\n",
        "              break #Fim\n",
        "\n",
        "          # Se as tentativas não estiverem esgotadas\n",
        "          print(\"Tente novamente.\\n\")\n",
        "          print(\"Agora você tem {} chances\".format(tentativas))\n",
        "else: #Fim\n",
        "  print(\"Ate a proxima!\")"
      ],
      "execution_count": null,
      "outputs": []
    }
  ]
}